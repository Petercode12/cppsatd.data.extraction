{
 "cells": [
  {
   "cell_type": "markdown",
   "metadata": {},
   "source": [
    "### Read data files gained from ETF extraction"
   ]
  },
  {
   "cell_type": "code",
   "execution_count": null,
   "metadata": {},
   "outputs": [],
   "source": [
    "import pandas as pd\n",
    "\n",
    "path_bitcoin_data = \"path_to_csv_file_from_etf_extraction\"\n",
    "path_godot_data = \"path_to_csv_file_from_etf_extraction\"\n",
    "path_react_native_data = \"path_to_csv_file_from_etf_extraction\"\n",
    "path_swift_data = \"path_to_csv_file_from_etf_extraction\"\n",
    "path_tensorflow_data = \"path_to_csv_file_from_etf_extraction\""
   ]
  },
  {
   "cell_type": "code",
   "execution_count": null,
   "metadata": {},
   "outputs": [],
   "source": [
    "comments_info_bitcoin = pd.read_csv(path_bitcoin_data)\n",
    "comments_info_godot = pd.read_csv(path_godot_data)\n",
    "comments_info_react_native = pd.read_csv(path_react_native_data)\n",
    "comments_info_swift = pd.read_csv(path_swift_data)\n",
    "comments_info_tensorflow = pd.read_csv(path_tensorflow_data)"
   ]
  },
  {
   "cell_type": "code",
   "execution_count": null,
   "metadata": {},
   "outputs": [],
   "source": [
    "print(comments_info_bitcoin.shape[0])\n",
    "print(comments_info_godot.shape[0])\n",
    "print(comments_info_react_native.shape[0])\n",
    "print(comments_info_swift.shape[0])\n",
    "print(comments_info_tensorflow.shape[0])"
   ]
  },
  {
   "cell_type": "markdown",
   "metadata": {},
   "source": [
    "### Retrieve non-ETF SATD comments"
   ]
  },
  {
   "cell_type": "code",
   "execution_count": null,
   "metadata": {},
   "outputs": [],
   "source": [
    "df_non_etf_bitcoin = comments_info_bitcoin[comments_info_bitcoin[\"etf_satd\"] == 0]\n",
    "df_non_etf_godot = comments_info_godot[comments_info_godot[\"etf_satd\"] == 0]\n",
    "df_non_etf_react_native = comments_info_react_native[comments_info_react_native[\"etf_satd\"] == 0]\n",
    "df_non_etf_swift = comments_info_swift[comments_info_swift[\"etf_satd\"] == 0]\n",
    "df_non_etf_tensorflow = comments_info_tensorflow[comments_info_tensorflow[\"etf_satd\"] == 0]"
   ]
  },
  {
   "cell_type": "code",
   "execution_count": null,
   "metadata": {},
   "outputs": [],
   "source": [
    "print(df_non_etf_bitcoin.shape[0])\n",
    "print(df_non_etf_godot.shape[0])\n",
    "print(df_non_etf_react_native.shape[0])\n",
    "print(df_non_etf_swift.shape[0])\n",
    "print(df_non_etf_tensorflow.shape[0])"
   ]
  },
  {
   "cell_type": "markdown",
   "metadata": {},
   "source": [
    "### Extract HTF SATD"
   ]
  },
  {
   "cell_type": "code",
   "execution_count": null,
   "metadata": {},
   "outputs": [],
   "source": [
    "import re\n",
    "\n",
    "def get_htf_keywords(file_name):\n",
    "    with open(file_name, 'r') as file:\n",
    "        keywords = [line.strip()[:-1] for line in file]\n",
    "    return keywords\n",
    "\n",
    "keywords = get_htf_keywords(\"hard_to_find_features.txt\")\n",
    "\n",
    "print(\"Number of keywords: \", len(keywords))\n",
    "for keyword in keywords:\n",
    "    print(keyword)"
   ]
  },
  {
   "cell_type": "code",
   "execution_count": null,
   "metadata": {},
   "outputs": [],
   "source": [
    "def check_htf_satd(keywords, comments):\n",
    "    htf_satd_comments = []\n",
    "\n",
    "    for comment in comments:\n",
    "        if any(re.search(re.escape(keyword), comment) for keyword in keywords):\n",
    "            htf_satd_comments.append(1)\n",
    "        else:\n",
    "            htf_satd_comments.append(0)\n",
    "    return htf_satd_comments"
   ]
  },
  {
   "cell_type": "code",
   "execution_count": null,
   "metadata": {},
   "outputs": [],
   "source": [
    "df_non_etf_bitcoin['htf_satd'] = check_htf_satd(keywords, df_non_etf_bitcoin['comment'].values)\n",
    "df_non_etf_godot['htf_satd'] = check_htf_satd(keywords, df_non_etf_godot['comment'].values)\n",
    "df_non_etf_react_native['htf_satd'] = check_htf_satd(keywords, df_non_etf_react_native['comment'].values)\n",
    "df_non_etf_swift['htf_satd'] = check_htf_satd(keywords, df_non_etf_swift['comment'].values)\n",
    "df_non_etf_tensorflow['htf_satd'] = check_htf_satd(keywords, df_non_etf_tensorflow['comment'].values)"
   ]
  },
  {
   "cell_type": "code",
   "execution_count": null,
   "metadata": {},
   "outputs": [],
   "source": [
    "# HTF SATD comments\n",
    "htf_satd_bitcoin = df_non_etf_bitcoin[df_non_etf_bitcoin[\"htf_satd\"] == 1]\n",
    "htf_satd_godot = df_non_etf_godot[df_non_etf_godot[\"htf_satd\"] == 1]\n",
    "htf_satd_react_native = df_non_etf_react_native[df_non_etf_react_native[\"htf_satd\"] == 1]\n",
    "htf_satd_swift = df_non_etf_swift[df_non_etf_swift[\"htf_satd\"] == 1]\n",
    "htf_satd_tensorflow = df_non_etf_tensorflow[df_non_etf_tensorflow[\"htf_satd\"] == 1]"
   ]
  }
 ],
 "metadata": {
  "kernelspec": {
   "display_name": "Python 3",
   "language": "python",
   "name": "python3"
  },
  "language_info": {
   "codemirror_mode": {
    "name": "ipython",
    "version": 3
   },
   "file_extension": ".py",
   "mimetype": "text/x-python",
   "name": "python",
   "nbconvert_exporter": "python",
   "pygments_lexer": "ipython3",
   "version": "3.11.5"
  }
 },
 "nbformat": 4,
 "nbformat_minor": 2
}
